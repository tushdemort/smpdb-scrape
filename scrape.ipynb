{
 "cells": [
  {
   "cell_type": "markdown",
   "metadata": {},
   "source": [
    "Get the pathways\n"
   ]
  },
  {
   "cell_type": "code",
   "execution_count": null,
   "metadata": {},
   "outputs": [],
   "source": [
    "from selenium import webdriver\n",
    "from selenium.webdriver.common.by import By\n",
    "from selenium.webdriver.support.ui import WebDriverWait\n",
    "from selenium.webdriver.support import expected_conditions as EC\n",
    "from selenium.webdriver.chrome.options import Options\n",
    "import time\n",
    "\n",
    "h=[]\n",
    "t=[]\n",
    "hid=[]\n",
    "all_href_list = []\n",
    "for page in range(1,20):\n",
    "    print(page)\n",
    "    chrome_options = Options()\n",
    "    prefs = {\n",
    "        \"profile.managed_default_content_settings.stylesheets\": 2,\n",
    "        \"profile.managed_default_content_settings.images\": 2\n",
    "    }\n",
    "    chrome_options.add_experimental_option(\"prefs\", prefs)\n",
    "    chrome_options = Options()\n",
    "    chrome_options.add_argument(\"--headless\")  \n",
    "    chrome_options.add_argument(\"--disable-gpu\")\n",
    "    chrome_options.add_argument(\"--window-size=1920x1080\")\n",
    "\n",
    "    driver = webdriver.Chrome(options=chrome_options)\n",
    "    driver.set_page_load_timeout(3600)\n",
    "    \n",
    "    url = f'https://smpdb.ca/view?export=true&limit=50&page={page}&pathbank=true&sort_by=rank&sort_order=asc&species_id=1&species_name=Homo+sapiens'\n",
    "    driver.get(url)\n",
    "    if True:\n",
    "        try:\n",
    "            tbody_element = driver.find_element(By.TAG_NAME, 'tbody')\n",
    "            h2_elements = tbody_element.find_elements(By.TAG_NAME, 'h2')\n",
    "            elements_with_type = driver.find_elements(By.CSS_SELECTOR, '[class*=\"type\"]')\n",
    "            div_elements = driver.find_elements(By.CLASS_NAME, 'path-description')\n",
    "            ul_elements = driver.find_elements(By.CLASS_NAME, 'browse-list')\n",
    "            visible_divs = [div for div in div_elements if 'display: none' in div.get_attribute('style')]\n",
    "            for i in h2_elements:\n",
    "                h.append(i.text)\n",
    "            for i in elements_with_type:\n",
    "                t.append(i.text)\n",
    "            for i in visible_divs:\n",
    "                element_text = driver.execute_script(\"return arguments[0].innerText;\", i)\n",
    "                hid.append(element_text)\n",
    "        except:\n",
    "            pass\n",
    "\n",
    "    \n",
    "        i=0\n",
    "        for ul in ul_elements:\n",
    "            try:\n",
    "                i+=1\n",
    "                li_elements = ul.find_elements(By.TAG_NAME, 'li')\n",
    "                href_list = [li.find_element(By.TAG_NAME, 'a').get_attribute('href') for li in li_elements][:-1]\n",
    "                if i%2!=0:\n",
    "                    href_list_id = [i[-11:] for i in href_list]\n",
    "                else:\n",
    "                    href_list_id = [i[-6:] for i in href_list]\n",
    "                all_href_list.append(href_list_id)\n",
    "            except:\n",
    "                pass\n",
    "        else:\n",
    "            print(\"No <tbody> tag found on the page.\")\n",
    "    driver.quit()\n"
   ]
  },
  {
   "cell_type": "markdown",
   "metadata": {},
   "source": [
    "Create pathways json"
   ]
  },
  {
   "cell_type": "code",
   "execution_count": null,
   "metadata": {},
   "outputs": [],
   "source": [
    "ls=[]\n",
    "for i in range(len(h)):\n",
    "    if i%2==0:\n",
    "        try:\n",
    "            temp={}\n",
    "            temp['smpdb'] = h[i]\n",
    "            temp['name']=h[i+1]\n",
    "            temp['class']=t[i//2]\n",
    "            temp['description']=hid[i//2]\n",
    "            temp['chem_link']=all_href_list[i]\n",
    "            temp['prot_link']=all_href_list[i+1]\n",
    "            ls.append(temp)\n",
    "        except:\n",
    "            print(i)"
   ]
  },
  {
   "cell_type": "code",
   "execution_count": 3,
   "metadata": {},
   "outputs": [],
   "source": [
    "import json\n",
    "for i in ls:\n",
    "    filename=f'pathway/{i[\"smpdb\"]}.json'\n",
    "    with open(filename,'w') as file:\n",
    "        json.dump(i,file,indent=4)"
   ]
  },
  {
   "cell_type": "markdown",
   "metadata": {},
   "source": [
    "Process links for chemicals and proteins"
   ]
  },
  {
   "cell_type": "code",
   "execution_count": 4,
   "metadata": {},
   "outputs": [],
   "source": [
    "links=[]\n",
    "for i in all_href_list:\n",
    "    links.extend(i)"
   ]
  },
  {
   "cell_type": "code",
   "execution_count": 5,
   "metadata": {},
   "outputs": [
    {
     "name": "stdout",
     "output_type": "stream",
     "text": [
      "3277  links found\n"
     ]
    }
   ],
   "source": [
    "links = set(links)\n",
    "print(len(links), ' links found')"
   ]
  },
  {
   "cell_type": "markdown",
   "metadata": {},
   "source": [
    "Fetch data for chemicals and proteins"
   ]
  },
  {
   "cell_type": "code",
   "execution_count": null,
   "metadata": {},
   "outputs": [],
   "source": [
    "chem_list=[]\n",
    "prot_list=[]\n",
    "\n",
    "chrome_options = Options()\n",
    "prefs = {\n",
    "    \"profile.managed_default_content_settings.stylesheets\": 2,  \n",
    "    \"profile.managed_default_content_settings.images\": 2  \n",
    "}\n",
    "chrome_options.add_experimental_option(\"prefs\", prefs)\n",
    "chrome_options = Options()\n",
    "chrome_options.add_argument(\"--headless\")\n",
    "chrome_options.add_argument(\"--disable-gpu\")\n",
    "chrome_options.add_argument(\"--window-size=1920x1080\")\n",
    "driver = webdriver.Chrome(options=chrome_options)\n",
    "driver.set_page_load_timeout(3600)\n",
    "for i in links:\n",
    "    try:\n",
    "        if 'HMDB' in i:\n",
    "            url = f'https://hmdb.ca/metabolites/{i}'\n",
    "            driver.get(url)\n",
    "            strong_elements = driver.find_elements(By.TAG_NAME, \"strong\")\n",
    "            name=''\n",
    "            smiles=''\n",
    "            WebDriverWait(driver,60).until(\n",
    "            EC.presence_of_element_located((By.CLASS_NAME, \"word-break-all\"))\n",
    "            )\n",
    "            div_element = driver.find_element(By.CLASS_NAME, \"word-break-all\")\n",
    "            smiles = div_element.text\n",
    "            for element in strong_elements:\n",
    "                name = element.text\n",
    "                break\n",
    "            final_dict={'common_name': name, 'url':url,'smiles':smiles}\n",
    "            chem_list.append(final_dict)\n",
    "        else:\n",
    "            url = f'https://www.uniprot.org/uniprotkb/{i}/entry#sequences'\n",
    "            driver.get(url)\n",
    "            WebDriverWait(driver, 30).until(\n",
    "            EC.presence_of_element_located((By.CLASS_NAME, \"sequence\"))\n",
    "            )\n",
    "            strong_elements = driver.find_elements(By.TAG_NAME, \"strong\")\n",
    "            sequence_div = driver.find_element(By.CLASS_NAME, \"sequence\")\n",
    "            span_elements = sequence_div.find_elements(By.TAG_NAME, \"span\")\n",
    "\n",
    "            name = ''\n",
    "            amino_acid=[]\n",
    "            for div_item in strong_elements:\n",
    "                name = div_item.text\n",
    "                break\n",
    "            for seq in span_elements:\n",
    "                amino_acid.append(seq.text)\n",
    "            final_dict = {'name':name,'url':url[:-10],\"amino_seq\":amino_acid}\n",
    "            prot_list.append(final_dict)\n",
    "    except:\n",
    "        pass\n",
    "driver.quit()\n"
   ]
  },
  {
   "cell_type": "markdown",
   "metadata": {},
   "source": [
    "Create JSON for chemicals and proteins"
   ]
  },
  {
   "cell_type": "code",
   "execution_count": null,
   "metadata": {},
   "outputs": [],
   "source": [
    "for i in chem_list:\n",
    "    filename=f'chemical/{i[\"url\"][-11:]}.json'\n",
    "    with open(filename,'w') as file:\n",
    "        json.dump(i,file,indent=4)\n",
    "for j in prot_list:\n",
    "    print(j)\n",
    "    filename=f'protein/{j[\"url\"][-12:-6]}.json'\n",
    "    with open(filename,'w') as file:\n",
    "        json.dump(j,file,indent=4)\n",
    "\n",
    "            "
   ]
  },
  {
   "cell_type": "code",
   "execution_count": null,
   "metadata": {},
   "outputs": [
    {
     "name": "stdout",
     "output_type": "stream",
     "text": [
      "1754\n"
     ]
    },
    {
     "data": {
      "text/plain": [
       "1523"
      ]
     },
     "execution_count": 11,
     "metadata": {},
     "output_type": "execute_result"
    }
   ],
   "source": []
  }
 ],
 "metadata": {
  "kernelspec": {
   "display_name": "Python 3",
   "language": "python",
   "name": "python3"
  },
  "language_info": {
   "codemirror_mode": {
    "name": "ipython",
    "version": 3
   },
   "file_extension": ".py",
   "mimetype": "text/x-python",
   "name": "python",
   "nbconvert_exporter": "python",
   "pygments_lexer": "ipython3",
   "version": "3.11.5"
  }
 },
 "nbformat": 4,
 "nbformat_minor": 2
}
